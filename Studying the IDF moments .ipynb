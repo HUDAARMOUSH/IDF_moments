{
 "cells": [
  {
   "cell_type": "code",
   "execution_count": 1,
   "id": "d45a1760-6814-4dec-b3eb-ce3213c8ce04",
   "metadata": {},
   "outputs": [],
   "source": [
    "import pandas as pd "
   ]
  },
  {
   "cell_type": "code",
   "execution_count": 2,
   "id": "55cc66f5-7437-47b5-9d83-8b0710752151",
   "metadata": {},
   "outputs": [],
   "source": [
    "IDF = pd.read_csv('idf_report.csv')"
   ]
  },
  {
   "cell_type": "code",
   "execution_count": 3,
   "id": "f9eaa75a-da6e-4df2-b3a4-45959c7db0fe",
   "metadata": {},
   "outputs": [
    {
     "data": {
      "text/html": [
       "<div>\n",
       "<style scoped>\n",
       "    .dataframe tbody tr th:only-of-type {\n",
       "        vertical-align: middle;\n",
       "    }\n",
       "\n",
       "    .dataframe tbody tr th {\n",
       "        vertical-align: top;\n",
       "    }\n",
       "\n",
       "    .dataframe thead th {\n",
       "        text-align: right;\n",
       "    }\n",
       "</style>\n",
       "<table border=\"1\" class=\"dataframe\">\n",
       "  <thead>\n",
       "    <tr style=\"text-align: right;\">\n",
       "      <th></th>\n",
       "      <th>Date</th>\n",
       "      <th>Time</th>\n",
       "      <th>Location</th>\n",
       "      <th>Description</th>\n",
       "    </tr>\n",
       "  </thead>\n",
       "  <tbody>\n",
       "    <tr>\n",
       "      <th>176</th>\n",
       "      <td>07/10/2023</td>\n",
       "      <td>NaN</td>\n",
       "      <td>Unknown</td>\n",
       "      <td>Sirens sounded in the city of Jerusalem.</td>\n",
       "    </tr>\n",
       "    <tr>\n",
       "      <th>177</th>\n",
       "      <td>07/10/2023</td>\n",
       "      <td>NaN</td>\n",
       "      <td>Israel</td>\n",
       "      <td>Sirens continue to sound throughout Central an...</td>\n",
       "    </tr>\n",
       "    <tr>\n",
       "      <th>178</th>\n",
       "      <td>07/10/2023</td>\n",
       "      <td>NaN</td>\n",
       "      <td>Gaza</td>\n",
       "      <td>Initial report – A number of terrorists have i...</td>\n",
       "    </tr>\n",
       "    <tr>\n",
       "      <th>179</th>\n",
       "      <td>07/10/2023</td>\n",
       "      <td>NaN</td>\n",
       "      <td>Gaza</td>\n",
       "      <td>Over the past half an hour, barrages of rocket...</td>\n",
       "    </tr>\n",
       "    <tr>\n",
       "      <th>180</th>\n",
       "      <td>07/10/2023</td>\n",
       "      <td>NaN</td>\n",
       "      <td>Israel</td>\n",
       "      <td>Sirens sounded in Central and Southern Israel....</td>\n",
       "    </tr>\n",
       "  </tbody>\n",
       "</table>\n",
       "</div>"
      ],
      "text/plain": [
       "           Date Time Location  \\\n",
       "176  07/10/2023  NaN  Unknown   \n",
       "177  07/10/2023  NaN   Israel   \n",
       "178  07/10/2023  NaN     Gaza   \n",
       "179  07/10/2023  NaN     Gaza   \n",
       "180  07/10/2023  NaN   Israel   \n",
       "\n",
       "                                           Description  \n",
       "176           Sirens sounded in the city of Jerusalem.  \n",
       "177  Sirens continue to sound throughout Central an...  \n",
       "178  Initial report – A number of terrorists have i...  \n",
       "179  Over the past half an hour, barrages of rocket...  \n",
       "180  Sirens sounded in Central and Southern Israel....  "
      ]
     },
     "execution_count": 3,
     "metadata": {},
     "output_type": "execute_result"
    }
   ],
   "source": [
    "IDF.tail() #I want to start from 7th oct. "
   ]
  },
  {
   "cell_type": "markdown",
   "id": "1b238be9-4f72-4844-ba68-6cdd6170edfd",
   "metadata": {},
   "source": [
    "There is NaN in time. And the \"Unknown\" is not counted, even in the first-last observation it's \"Jerusalem\" "
   ]
  },
  {
   "cell_type": "code",
   "execution_count": 5,
   "id": "2d6da831-2523-4283-b086-cb3978b81663",
   "metadata": {},
   "outputs": [
    {
     "name": "stdout",
     "output_type": "stream",
     "text": [
      "Date            0\n",
      "Time           85\n",
      "Location        0\n",
      "Description     0\n",
      "dtype: int64\n"
     ]
    }
   ],
   "source": [
    "print(IDF.isnull().sum())\n"
   ]
  },
  {
   "cell_type": "markdown",
   "id": "e2d36850-4b8d-4bf5-bbe0-8824724ba2e7",
   "metadata": {},
   "source": [
    "There is one Duplicate "
   ]
  },
  {
   "cell_type": "code",
   "execution_count": 7,
   "id": "b75aa16c-95e8-4077-80de-fa1bd429c05c",
   "metadata": {},
   "outputs": [
    {
     "name": "stdout",
     "output_type": "stream",
     "text": [
      "1\n"
     ]
    }
   ],
   "source": [
    "print(IDF.duplicated().sum())\n"
   ]
  },
  {
   "cell_type": "code",
   "execution_count": 8,
   "id": "b62009ea-2149-4bb2-8517-3f01c6dca108",
   "metadata": {},
   "outputs": [
    {
     "name": "stdout",
     "output_type": "stream",
     "text": [
      "<class 'pandas.core.frame.DataFrame'>\n",
      "RangeIndex: 181 entries, 0 to 180\n",
      "Data columns (total 4 columns):\n",
      " #   Column       Non-Null Count  Dtype \n",
      "---  ------       --------------  ----- \n",
      " 0   Date         181 non-null    object\n",
      " 1   Time         96 non-null     object\n",
      " 2   Location     181 non-null    object\n",
      " 3   Description  181 non-null    object\n",
      "dtypes: object(4)\n",
      "memory usage: 5.8+ KB\n"
     ]
    }
   ],
   "source": [
    "IDF.info()"
   ]
  },
  {
   "cell_type": "markdown",
   "id": "8bcda348-07b7-44e0-8bbb-e71069683107",
   "metadata": {},
   "source": [
    "So we have 181, and the 96 out of 181 wich is the missing Values (85)\n",
    "all of them are objects, the time and Date should be in datetime. "
   ]
  },
  {
   "cell_type": "code",
   "execution_count": 10,
   "id": "f97283b8-8af8-4ecc-844b-30545476eda4",
   "metadata": {},
   "outputs": [
    {
     "data": {
      "text/plain": [
       "(181, 4)"
      ]
     },
     "execution_count": 10,
     "metadata": {},
     "output_type": "execute_result"
    }
   ],
   "source": [
    "IDF.shape #alright. "
   ]
  },
  {
   "cell_type": "code",
   "execution_count": 11,
   "id": "f989c032-be81-46b7-bab5-1dbc2d0b20e5",
   "metadata": {},
   "outputs": [
    {
     "data": {
      "text/plain": [
       "11"
      ]
     },
     "execution_count": 11,
     "metadata": {},
     "output_type": "execute_result"
    }
   ],
   "source": [
    "IDF['Description'].duplicated(). sum() #I think it's weird to have the same description. "
   ]
  },
  {
   "cell_type": "code",
   "execution_count": 12,
   "id": "4c58a21c-6872-4860-9f9e-e3e32a20c359",
   "metadata": {},
   "outputs": [
    {
     "data": {
      "text/plain": [
       "173"
      ]
     },
     "execution_count": 12,
     "metadata": {},
     "output_type": "execute_result"
    }
   ],
   "source": [
    "IDF['Date'].duplicated(). sum()"
   ]
  },
  {
   "cell_type": "code",
   "execution_count": 13,
   "id": "5fb88d46-f7ef-4fbb-b2cd-3a2e521bc43d",
   "metadata": {},
   "outputs": [
    {
     "data": {
      "text/plain": [
       "91"
      ]
     },
     "execution_count": 13,
     "metadata": {},
     "output_type": "execute_result"
    }
   ],
   "source": [
    "IDF['Time'].duplicated(). sum()"
   ]
  },
  {
   "cell_type": "code",
   "execution_count": 14,
   "id": "84dd8c73-e6dd-4dd7-a018-4870f7b28241",
   "metadata": {},
   "outputs": [
    {
     "data": {
      "text/plain": [
       "177"
      ]
     },
     "execution_count": 14,
     "metadata": {},
     "output_type": "execute_result"
    }
   ],
   "source": [
    "IDF['Location'].duplicated(). sum()"
   ]
  },
  {
   "cell_type": "code",
   "execution_count": 15,
   "id": "7a65c6ef-c36d-46f4-a6e6-ca8b2b069724",
   "metadata": {},
   "outputs": [
    {
     "data": {
      "text/plain": [
       "<bound method IndexOpsMixin.value_counts of 0         Gaza\n",
       "1         Gaza\n",
       "2      Lebanon\n",
       "3      Unknown\n",
       "4       Israel\n",
       "        ...   \n",
       "176    Unknown\n",
       "177     Israel\n",
       "178       Gaza\n",
       "179       Gaza\n",
       "180     Israel\n",
       "Name: Location, Length: 181, dtype: object>"
      ]
     },
     "execution_count": 15,
     "metadata": {},
     "output_type": "execute_result"
    }
   ],
   "source": [
    "IDF['Location'].value_counts"
   ]
  },
  {
   "cell_type": "markdown",
   "id": "7316633c-b956-4932-ac48-a758a5c898ab",
   "metadata": {},
   "source": [
    "IDF['Date'] = pd.to_datetime(IDF['Date'], errors='coerce')\n",
    "IDF['Time'] = pd.to_datetime(IDF['Time'], errors='coerce')"
   ]
  },
  {
   "cell_type": "code",
   "execution_count": 72,
   "id": "fde5a8f5-ab1d-4638-b56c-56748f3f6e63",
   "metadata": {},
   "outputs": [
    {
     "data": {
      "text/plain": [
       "Date                     datetime64[ns]\n",
       "Time                     datetime64[ns]\n",
       "Location                         object\n",
       "Description                      object\n",
       "Num_Terrorists                   object\n",
       "Num_Damaged_Buildings            object\n",
       "Ammunition_Used                  object\n",
       "dtype: object"
      ]
     },
     "execution_count": 72,
     "metadata": {},
     "output_type": "execute_result"
    }
   ],
   "source": [
    "IDF.dtypes"
   ]
  },
  {
   "cell_type": "code",
   "execution_count": 19,
   "id": "7d30de48-bdee-4dcb-a6a9-a6a68a10e3f3",
   "metadata": {},
   "outputs": [],
   "source": [
    "IDF =IDF.sort_values(by='Date').reset_index(drop=True)"
   ]
  },
  {
   "cell_type": "code",
   "execution_count": 96,
   "id": "aa321497-d159-4128-98ad-d9a84727b998",
   "metadata": {},
   "outputs": [
    {
     "ename": "NameError",
     "evalue": "name 'IDF' is not defined",
     "output_type": "error",
     "traceback": [
      "\u001b[1;31m---------------------------------------------------------------------------\u001b[0m",
      "\u001b[1;31mNameError\u001b[0m                                 Traceback (most recent call last)",
      "Cell \u001b[1;32mIn[96], line 1\u001b[0m\n\u001b[1;32m----> 1\u001b[0m IDF\u001b[38;5;241m.\u001b[39mhead()\n",
      "\u001b[1;31mNameError\u001b[0m: name 'IDF' is not defined"
     ]
    }
   ],
   "source": [
    "IDF.head()"
   ]
  },
  {
   "cell_type": "markdown",
   "id": "135d29fe-c0e5-4137-8361-12267bd30f7c",
   "metadata": {},
   "source": [
    "# Let's try to manipulate Texts! "
   ]
  },
  {
   "cell_type": "code",
   "execution_count": 22,
   "id": "53ac18c6-9e9e-4e85-a6d8-b5500257c4a1",
   "metadata": {},
   "outputs": [],
   "source": [
    "import re\n"
   ]
  },
  {
   "cell_type": "code",
   "execution_count": 23,
   "id": "f16c64e7-8d64-4de6-b45b-97b9f261c600",
   "metadata": {},
   "outputs": [
    {
     "name": "stdout",
     "output_type": "stream",
     "text": [
      "Total number of terrorists mentioned: 23\n"
     ]
    }
   ],
   "source": [
    "def count_terrorists(description):\n",
    "    matches = re.findall(r'(\\d+)\\s+terrorists', description.lower())\n",
    "    return sum(int(match) for match in matches)\n",
    "\n",
    "total_terrorists = IDF['Description'].apply(count_terrorists).sum()\n",
    "\n",
    "print(f'Total number of terrorists mentioned: {total_terrorists}')"
   ]
  },
  {
   "cell_type": "code",
   "execution_count": 24,
   "id": "70716e9e-b46a-444f-8335-5512cccd6b9c",
   "metadata": {},
   "outputs": [
    {
     "name": "stdout",
     "output_type": "stream",
     "text": [
      "Total number of Hamas mentioned: 507\n"
     ]
    }
   ],
   "source": [
    "def count_hamas(description):\n",
    "    matches = re.findall(r'(\\d+)\\s+hamas', description.lower())\n",
    "    return sum(int(match) for match in matches)\n",
    "total_hamas = IDF['Description'].apply(count_hamas).sum()\n",
    "\n",
    "print(f'Total number of Hamas mentioned: {total_hamas}')"
   ]
  },
  {
   "cell_type": "markdown",
   "id": "44430374-710c-41de-9aa0-20c91d2d05fd",
   "metadata": {},
   "source": [
    "okay that was warming up. lets make the \"description\" column better (number of terrorist, number of  damage buildings, Ammunition used(kind and number),"
   ]
  },
  {
   "cell_type": "code",
   "execution_count": 26,
   "id": "ec311cdc-57ae-4e87-9558-c496d1838dd0",
   "metadata": {},
   "outputs": [],
   "source": [
    "description_split = IDF['Description'].str.extract(r'(?P<Num_Terrorists>\\d+) terrorists, (?P<Num_Damaged_Buildings>\\d+) damaged buildings, Ammunition used: (?P<Ammunition_Used>.+)', expand=True)\n",
    "IDF = pd.concat([IDF, description_split], axis=1)\n"
   ]
  },
  {
   "cell_type": "code",
   "execution_count": 27,
   "id": "e7e18736-5e32-4200-a7ee-a64fb966c66b",
   "metadata": {},
   "outputs": [
    {
     "data": {
      "text/html": [
       "<div>\n",
       "<style scoped>\n",
       "    .dataframe tbody tr th:only-of-type {\n",
       "        vertical-align: middle;\n",
       "    }\n",
       "\n",
       "    .dataframe tbody tr th {\n",
       "        vertical-align: top;\n",
       "    }\n",
       "\n",
       "    .dataframe thead th {\n",
       "        text-align: right;\n",
       "    }\n",
       "</style>\n",
       "<table border=\"1\" class=\"dataframe\">\n",
       "  <thead>\n",
       "    <tr style=\"text-align: right;\">\n",
       "      <th></th>\n",
       "      <th>Date</th>\n",
       "      <th>Time</th>\n",
       "      <th>Location</th>\n",
       "      <th>Description</th>\n",
       "      <th>Num_Terrorists</th>\n",
       "      <th>Num_Damaged_Buildings</th>\n",
       "      <th>Ammunition_Used</th>\n",
       "    </tr>\n",
       "  </thead>\n",
       "  <tbody>\n",
       "    <tr>\n",
       "      <th>0</th>\n",
       "      <td>2023-07-10</td>\n",
       "      <td>NaT</td>\n",
       "      <td>Israel</td>\n",
       "      <td>Sirens sounded in Central and Southern Israel....</td>\n",
       "      <td>NaN</td>\n",
       "      <td>NaN</td>\n",
       "      <td>NaN</td>\n",
       "    </tr>\n",
       "    <tr>\n",
       "      <th>1</th>\n",
       "      <td>2023-07-10</td>\n",
       "      <td>NaT</td>\n",
       "      <td>Unknown</td>\n",
       "      <td>The Commanding Officer of the Nahal brigade, C...</td>\n",
       "      <td>NaN</td>\n",
       "      <td>NaN</td>\n",
       "      <td>NaN</td>\n",
       "    </tr>\n",
       "    <tr>\n",
       "      <th>2</th>\n",
       "      <td>2023-07-10</td>\n",
       "      <td>NaT</td>\n",
       "      <td>Unknown</td>\n",
       "      <td>Attached is an IDF Announcement regarding the ...</td>\n",
       "      <td>NaN</td>\n",
       "      <td>NaN</td>\n",
       "      <td>NaN</td>\n",
       "    </tr>\n",
       "    <tr>\n",
       "      <th>3</th>\n",
       "      <td>2023-07-10</td>\n",
       "      <td>NaT</td>\n",
       "      <td>Gaza</td>\n",
       "      <td>IDF fighter jets struck military infrastructur...</td>\n",
       "      <td>NaN</td>\n",
       "      <td>NaN</td>\n",
       "      <td>NaN</td>\n",
       "    </tr>\n",
       "    <tr>\n",
       "      <th>4</th>\n",
       "      <td>2023-07-10</td>\n",
       "      <td>NaT</td>\n",
       "      <td>Gaza</td>\n",
       "      <td>The IDF is currently striking a number of targ...</td>\n",
       "      <td>NaN</td>\n",
       "      <td>NaN</td>\n",
       "      <td>NaN</td>\n",
       "    </tr>\n",
       "  </tbody>\n",
       "</table>\n",
       "</div>"
      ],
      "text/plain": [
       "        Date Time Location                                        Description  \\\n",
       "0 2023-07-10  NaT   Israel  Sirens sounded in Central and Southern Israel....   \n",
       "1 2023-07-10  NaT  Unknown  The Commanding Officer of the Nahal brigade, C...   \n",
       "2 2023-07-10  NaT  Unknown  Attached is an IDF Announcement regarding the ...   \n",
       "3 2023-07-10  NaT     Gaza  IDF fighter jets struck military infrastructur...   \n",
       "4 2023-07-10  NaT     Gaza  The IDF is currently striking a number of targ...   \n",
       "\n",
       "  Num_Terrorists Num_Damaged_Buildings Ammunition_Used  \n",
       "0            NaN                   NaN             NaN  \n",
       "1            NaN                   NaN             NaN  \n",
       "2            NaN                   NaN             NaN  \n",
       "3            NaN                   NaN             NaN  \n",
       "4            NaN                   NaN             NaN  "
      ]
     },
     "execution_count": 27,
     "metadata": {},
     "output_type": "execute_result"
    }
   ],
   "source": [
    "IDF.head()"
   ]
  },
  {
   "cell_type": "code",
   "execution_count": 5,
   "id": "861494a3-6f68-44a9-b278-8bca27456cc7",
   "metadata": {},
   "outputs": [
    {
     "name": "stderr",
     "output_type": "stream",
     "text": [
      "[nltk_data] Downloading package punkt to\n",
      "[nltk_data]     C:\\Users\\hp\\AppData\\Roaming\\nltk_data...\n",
      "[nltk_data]   Package punkt is already up-to-date!\n"
     ]
    },
    {
     "data": {
      "text/plain": [
       "True"
      ]
     },
     "execution_count": 5,
     "metadata": {},
     "output_type": "execute_result"
    }
   ],
   "source": [
    "import pandas as pd\n",
    "import nltk\n",
    "from nltk.tokenize import sent_tokenize\n",
    "\n",
    "# Download the Punkt tokenizer model\n",
    "nltk.download('punkt')\n"
   ]
  },
  {
   "cell_type": "code",
   "execution_count": 84,
   "id": "e7d39d6f-4732-48f1-8582-4188b35123b7",
   "metadata": {},
   "outputs": [],
   "source": [
    "\n",
    "# Define functions\n",
    "def extract_sentences(text):\n",
    "    return sent_tokenize(text)\n",
    "\n",
    "def assign_sentences(sentences):\n",
    "    Num_terrorists = \"\"\n",
    "    Num_damaged_buildings = \"\"\n",
    "    Ammunition_used = \"\"\n",
    "    \n",
    "    keywords1 = {\n",
    "        'Num_Terrorists': ['terrorist', 'attackers', 'militants', 'dozens of terrorists','dozens', 'terrorists were neutralized']}\n",
    "    keywords2 = {\n",
    "        'Num_Damaged_Buildings': ['damaged', 'destroyed','struck the offices']} \n",
    "    keywords3 = {\n",
    "        'Ammunition_Used': ['ammunition', 'ammunitions', 'bullets', 'shells','launched toward', 'Ammunition', 'kilo']\n",
    "    }\n",
    "    \n",
    "    for sentence in sentences:\n",
    "        if any(keyword in sentence.lower() for keyword in keywords1['Num_Terrorists']):\n",
    "            num_terrorists = sentence\n",
    "        elif any(keyword in sentence.lower() for keyword in keywords2['Num_Damaged_Buildings']):\n",
    "            num_damaged_buildings = sentence\n",
    "        elif any(keyword in sentence.lower() for keyword in keywords3['Ammunition_Used']):\n",
    "            ammunition_used = sentence\n",
    "    \n",
    "    return pd.Series([Num_terrorists, Num_damaged_buildings, Ammunition_used])\n"
   ]
  },
  {
   "cell_type": "code",
   "execution_count": 94,
   "id": "50bacf58-747c-4b72-a075-db8b900ce320",
   "metadata": {},
   "outputs": [
    {
     "data": {
      "text/html": [
       "<div>\n",
       "<style scoped>\n",
       "    .dataframe tbody tr th:only-of-type {\n",
       "        vertical-align: middle;\n",
       "    }\n",
       "\n",
       "    .dataframe tbody tr th {\n",
       "        vertical-align: top;\n",
       "    }\n",
       "\n",
       "    .dataframe thead th {\n",
       "        text-align: right;\n",
       "    }\n",
       "</style>\n",
       "<table border=\"1\" class=\"dataframe\">\n",
       "  <thead>\n",
       "    <tr style=\"text-align: right;\">\n",
       "      <th></th>\n",
       "      <th>Date</th>\n",
       "      <th>Time</th>\n",
       "      <th>Location</th>\n",
       "      <th>Description</th>\n",
       "      <th>Num_Terrorists</th>\n",
       "      <th>Num_Damaged_Buildings</th>\n",
       "      <th>Ammunition_Used</th>\n",
       "    </tr>\n",
       "  </thead>\n",
       "  <tbody>\n",
       "    <tr>\n",
       "      <th>173</th>\n",
       "      <td>07/10/2023</td>\n",
       "      <td>NaN</td>\n",
       "      <td>Gaza</td>\n",
       "      <td>Dozens of IDF fighter jets struck a number of ...</td>\n",
       "      <td>Dozens of IDF fighter jets struck a number of ...</td>\n",
       "      <td></td>\n",
       "      <td></td>\n",
       "    </tr>\n",
       "    <tr>\n",
       "      <th>174</th>\n",
       "      <td>07/10/2023</td>\n",
       "      <td>NaN</td>\n",
       "      <td>Unknown</td>\n",
       "      <td>IDF operation against the Hamas terrorist orga...</td>\n",
       "      <td>IDF operation against the Hamas terrorist orga...</td>\n",
       "      <td></td>\n",
       "      <td></td>\n",
       "    </tr>\n",
       "    <tr>\n",
       "      <th>175</th>\n",
       "      <td>07/10/2023</td>\n",
       "      <td>NaN</td>\n",
       "      <td>Gaza</td>\n",
       "      <td>The IDF declares a state of alert for war. ove...</td>\n",
       "      <td>The Hamas terrorist organization is responsibl...</td>\n",
       "      <td></td>\n",
       "      <td></td>\n",
       "    </tr>\n",
       "    <tr>\n",
       "      <th>176</th>\n",
       "      <td>07/10/2023</td>\n",
       "      <td>NaN</td>\n",
       "      <td>Unknown</td>\n",
       "      <td>Sirens sounded in the city of Jerusalem.</td>\n",
       "      <td></td>\n",
       "      <td></td>\n",
       "      <td></td>\n",
       "    </tr>\n",
       "    <tr>\n",
       "      <th>177</th>\n",
       "      <td>07/10/2023</td>\n",
       "      <td>NaN</td>\n",
       "      <td>Israel</td>\n",
       "      <td>Sirens continue to sound throughout Central an...</td>\n",
       "      <td></td>\n",
       "      <td></td>\n",
       "      <td></td>\n",
       "    </tr>\n",
       "    <tr>\n",
       "      <th>178</th>\n",
       "      <td>07/10/2023</td>\n",
       "      <td>NaN</td>\n",
       "      <td>Gaza</td>\n",
       "      <td>Initial report – A number of terrorists have i...</td>\n",
       "      <td>Initial report – A number of terrorists have i...</td>\n",
       "      <td></td>\n",
       "      <td></td>\n",
       "    </tr>\n",
       "    <tr>\n",
       "      <th>179</th>\n",
       "      <td>07/10/2023</td>\n",
       "      <td>NaN</td>\n",
       "      <td>Gaza</td>\n",
       "      <td>Over the past half an hour, barrages of rocket...</td>\n",
       "      <td>Over the past half an hour, barrages of rocket...</td>\n",
       "      <td></td>\n",
       "      <td></td>\n",
       "    </tr>\n",
       "    <tr>\n",
       "      <th>180</th>\n",
       "      <td>07/10/2023</td>\n",
       "      <td>NaN</td>\n",
       "      <td>Israel</td>\n",
       "      <td>Sirens sounded in Central and Southern Israel....</td>\n",
       "      <td></td>\n",
       "      <td></td>\n",
       "      <td></td>\n",
       "    </tr>\n",
       "  </tbody>\n",
       "</table>\n",
       "</div>"
      ],
      "text/plain": [
       "           Date Time Location  \\\n",
       "173  07/10/2023  NaN     Gaza   \n",
       "174  07/10/2023  NaN  Unknown   \n",
       "175  07/10/2023  NaN     Gaza   \n",
       "176  07/10/2023  NaN  Unknown   \n",
       "177  07/10/2023  NaN   Israel   \n",
       "178  07/10/2023  NaN     Gaza   \n",
       "179  07/10/2023  NaN     Gaza   \n",
       "180  07/10/2023  NaN   Israel   \n",
       "\n",
       "                                           Description  \\\n",
       "173  Dozens of IDF fighter jets struck a number of ...   \n",
       "174  IDF operation against the Hamas terrorist orga...   \n",
       "175  The IDF declares a state of alert for war. ove...   \n",
       "176           Sirens sounded in the city of Jerusalem.   \n",
       "177  Sirens continue to sound throughout Central an...   \n",
       "178  Initial report – A number of terrorists have i...   \n",
       "179  Over the past half an hour, barrages of rocket...   \n",
       "180  Sirens sounded in Central and Southern Israel....   \n",
       "\n",
       "                                        Num_Terrorists Num_Damaged_Buildings  \\\n",
       "173  Dozens of IDF fighter jets struck a number of ...                         \n",
       "174  IDF operation against the Hamas terrorist orga...                         \n",
       "175  The Hamas terrorist organization is responsibl...                         \n",
       "176                                                                            \n",
       "177                                                                            \n",
       "178  Initial report – A number of terrorists have i...                         \n",
       "179  Over the past half an hour, barrages of rocket...                         \n",
       "180                                                                            \n",
       "\n",
       "    Ammunition_Used  \n",
       "173                  \n",
       "174                  \n",
       "175                  \n",
       "176                  \n",
       "177                  \n",
       "178                  \n",
       "179                  \n",
       "180                  "
      ]
     },
     "execution_count": 94,
     "metadata": {},
     "output_type": "execute_result"
    }
   ],
   "source": [
    "df.tail(8)"
   ]
  },
  {
   "cell_type": "code",
   "execution_count": 108,
   "id": "3a331276-1984-4894-8e84-0fc42b045b0b",
   "metadata": {},
   "outputs": [
    {
     "name": "stderr",
     "output_type": "stream",
     "text": [
      "C:\\Users\\hp\\AppData\\Local\\Temp\\ipykernel_5404\\3169283445.py:1: UserWarning: Could not infer format, so each element will be parsed individually, falling back to `dateutil`. To ensure parsing is consistent and as-expected, please specify a format.\n",
      "  df['Date'] = pd.to_datetime(df['Date'], errors='coerce')\n",
      "C:\\Users\\hp\\AppData\\Local\\Temp\\ipykernel_5404\\3169283445.py:2: UserWarning: Could not infer format, so each element will be parsed individually, falling back to `dateutil`. To ensure parsing is consistent and as-expected, please specify a format.\n",
      "  df['Time'] = pd.to_datetime(df['Time'], errors='coerce')\n"
     ]
    }
   ],
   "source": [
    "df['Date'] = pd.to_datetime(df['Date'], errors='coerce')\n",
    "df['Time'] = pd.to_datetime(df['Time'], errors='coerce')\n"
   ]
  },
  {
   "cell_type": "code",
   "execution_count": null,
   "id": "a08958b1-b3d6-4535-b076-b2a3cc89df4c",
   "metadata": {},
   "outputs": [],
   "source": []
  }
 ],
 "metadata": {
  "kernelspec": {
   "display_name": "Python 3 (ipykernel)",
   "language": "python",
   "name": "python3"
  },
  "language_info": {
   "codemirror_mode": {
    "name": "ipython",
    "version": 3
   },
   "file_extension": ".py",
   "mimetype": "text/x-python",
   "name": "python",
   "nbconvert_exporter": "python",
   "pygments_lexer": "ipython3",
   "version": "3.11.7"
  }
 },
 "nbformat": 4,
 "nbformat_minor": 5
}
